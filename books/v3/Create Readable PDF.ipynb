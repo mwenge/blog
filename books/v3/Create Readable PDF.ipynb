{
 "cells": [
  {
   "cell_type": "markdown",
   "id": "1ac261ff",
   "metadata": {},
   "source": [
    "# Reorder the pages in v3-old.pdf into a readable pdf"
   ]
  },
  {
   "cell_type": "code",
   "execution_count": null,
   "id": "22eaee68",
   "metadata": {},
   "outputs": [],
   "source": [
    "!pdftoppm -png v3-original.pdf images"
   ]
  },
  {
   "cell_type": "code",
   "execution_count": 19,
   "id": "94efabca",
   "metadata": {},
   "outputs": [],
   "source": [
    "import os\n",
    "img_dir = \"v3images\"\n",
    "imgs = sorted(os.listdir(img_dir))"
   ]
  },
  {
   "cell_type": "markdown",
   "id": "b2150dda",
   "metadata": {},
   "source": [
    "Split out each image into 4 and put the pages in the right order"
   ]
  },
  {
   "cell_type": "code",
   "execution_count": 54,
   "id": "2d7e57ed",
   "metadata": {},
   "outputs": [],
   "source": [
    "from PIL import Image\n",
    "import imageio.v2 as imageio\n",
    "\n",
    "total_pages = len(imgs) * 2\n",
    "images = [[] for i in range(0, total_pages)]\n",
    "for i, img in enumerate(imgs):\n",
    "    im = imageio.imread(img_dir + os.sep + img)\n",
    "    M = im.shape[0]//2\n",
    "    N = im.shape[1]//2\n",
    "    tiles = [im[x:x+M,y:y+N] for x in range(0,im.shape[0],M) for y in range(0,im.shape[1],N)]\n",
    "    \n",
    "    odd = i % 2 == 1\n",
    "    second_page_index = (total_pages) - i - 1  if odd else i\n",
    "    first_page_index = (total_pages) - i - 1  if not odd else i\n",
    "    #print(first_page_index, second_page_index)\n",
    "    images[first_page_index] = tiles[0]\n",
    "    images[second_page_index] = tiles[1]\n",
    "\n"
   ]
  },
  {
   "cell_type": "markdown",
   "id": "0fa34290",
   "metadata": {},
   "source": [
    "Save the images"
   ]
  },
  {
   "cell_type": "code",
   "execution_count": 55,
   "id": "524b4594",
   "metadata": {},
   "outputs": [],
   "source": [
    "for i,v in enumerate(images):\n",
    "    imageio.imsave('v3new/page_%02d.png' % i, v)"
   ]
  },
  {
   "cell_type": "markdown",
   "id": "7caa3da6",
   "metadata": {},
   "source": [
    "Convert the images into a pdf"
   ]
  },
  {
   "cell_type": "code",
   "execution_count": 57,
   "id": "adff8518",
   "metadata": {},
   "outputs": [],
   "source": [
    "!convert $(ls -v v3new/*.png) v3-new.pdf"
   ]
  },
  {
   "cell_type": "code",
   "execution_count": 58,
   "id": "a1a1b24f",
   "metadata": {},
   "outputs": [],
   "source": [
    "!ps2pdf v3-new.pdf v3-temp.pdf"
   ]
  },
  {
   "cell_type": "code",
   "execution_count": 59,
   "id": "e38bfd75",
   "metadata": {},
   "outputs": [],
   "source": [
    "!ps2pdf -dPDFSETTINGS=/ebook v3-temp.pdf v3.pdf"
   ]
  }
 ],
 "metadata": {
  "kernelspec": {
   "display_name": "Python 3",
   "language": "python",
   "name": "python3"
  },
  "language_info": {
   "codemirror_mode": {
    "name": "ipython",
    "version": 3
   },
   "file_extension": ".py",
   "mimetype": "text/x-python",
   "name": "python",
   "nbconvert_exporter": "python",
   "pygments_lexer": "ipython3",
   "version": "3.8.10"
  }
 },
 "nbformat": 4,
 "nbformat_minor": 5
}
